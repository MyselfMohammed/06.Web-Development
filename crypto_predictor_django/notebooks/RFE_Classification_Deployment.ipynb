{
 "cells": [
  {
   "cell_type": "code",
   "execution_count": 1,
   "id": "1f722b40-65d9-4995-8d74-82ef11936388",
   "metadata": {},
   "outputs": [],
   "source": [
    "import pickle\n",
    "filename = \"Finalized_Model_Random_Forest.sav\""
   ]
  },
  {
   "cell_type": "code",
   "execution_count": 3,
   "id": "11bc8c93-f535-48ac-b423-9490c51f7621",
   "metadata": {},
   "outputs": [
    {
     "data": {
      "text/plain": [
       "array([ True])"
      ]
     },
     "execution_count": 3,
     "metadata": {},
     "output_type": "execute_result"
    }
   ],
   "source": [
    "loaded_model=pickle.load(open(filename,'rb'))\n",
    "result = loaded_model.predict([[10,20,30,40,50]]) \n",
    "result"
   ]
  },
  {
   "cell_type": "code",
   "execution_count": null,
   "id": "f5b65131-89d0-47df-880f-1d6876ed34d4",
   "metadata": {},
   "outputs": [],
   "source": []
  }
 ],
 "metadata": {
  "kernelspec": {
   "display_name": "Python 3 (ipykernel)",
   "language": "python",
   "name": "python3"
  },
  "language_info": {
   "codemirror_mode": {
    "name": "ipython",
    "version": 3
   },
   "file_extension": ".py",
   "mimetype": "text/x-python",
   "name": "python",
   "nbconvert_exporter": "python",
   "pygments_lexer": "ipython3",
   "version": "3.12.4"
  }
 },
 "nbformat": 4,
 "nbformat_minor": 5
}
